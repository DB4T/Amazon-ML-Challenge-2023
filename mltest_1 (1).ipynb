{
 "cells": [
  {
   "cell_type": "code",
   "execution_count": 1,
   "id": "ad346ec2",
   "metadata": {},
   "outputs": [
    {
     "data": {
      "text/plain": [
       "'/Users/suman/Untitled Folder'"
      ]
     },
     "execution_count": 1,
     "metadata": {},
     "output_type": "execute_result"
    }
   ],
   "source": [
    "pwd"
   ]
  },
  {
   "cell_type": "code",
   "execution_count": 2,
   "id": "aed0a43d",
   "metadata": {},
   "outputs": [],
   "source": [
    "%matplotlib inline\n",
    "import seaborn as sns\n",
    "import pandas as pd\n",
    "import numpy as np\n",
    "import sklearn\n",
    "import sklearn.datasets\n",
    "import sklearn.linear_model\n",
    "from sklearn import preprocessing\n",
    "import matplotlib.pyplot as plt\n",
    "from pandas.plotting import scatter_matrix\n",
    "from sklearn.model_selection import train_test_split\n",
    "from sklearn.preprocessing import MinMaxScaler\n",
    "scaler = MinMaxScaler()\n",
    "label_e=preprocessing.LabelEncoder()\n",
    "import matplotlib.pyplot as plt\n",
    "import sklearn.metrics as metrics\n",
    "from sklearn.metrics import roc_auc_score\n",
    "from sklearn.svm import SVC\n",
    "from sklearn.metrics import confusion_matrix\n",
    "from sklearn.neighbors import KNeighborsRegressor\n",
    "from sklearn.linear_model import Lasso\n",
    "from sklearn.decomposition import PCA\n",
    "import csv\n",
    "import string\n",
    "import nltk\n",
    "from sklearn.feature_extraction.text import CountVectorizer\n",
    "from sklearn.feature_extraction.text import TfidfTransformer\n",
    "from sklearn.naive_bayes import MultinomialNB\n",
    "from sklearn.svm import LinearSVC"
   ]
  },
  {
   "cell_type": "code",
   "execution_count": 3,
   "id": "8ce4f59e",
   "metadata": {},
   "outputs": [],
   "source": [
    "df = pd.read_csv(\"train.csv\")\n",
    "test_data = pd.read_csv(\"test.csv\")\n",
    "df = df.dropna()\n",
    "df = df.iloc[:100000]\n",
    "test_data = test_data.iloc[:10000]\n",
    "test_data = test_data.dropna()"
   ]
  },
  {
   "cell_type": "code",
   "execution_count": 4,
   "id": "304ebad3",
   "metadata": {},
   "outputs": [
    {
     "data": {
      "text/html": [
       "<div>\n",
       "<style scoped>\n",
       "    .dataframe tbody tr th:only-of-type {\n",
       "        vertical-align: middle;\n",
       "    }\n",
       "\n",
       "    .dataframe tbody tr th {\n",
       "        vertical-align: top;\n",
       "    }\n",
       "\n",
       "    .dataframe thead th {\n",
       "        text-align: right;\n",
       "    }\n",
       "</style>\n",
       "<table border=\"1\" class=\"dataframe\">\n",
       "  <thead>\n",
       "    <tr style=\"text-align: right;\">\n",
       "      <th></th>\n",
       "      <th>PRODUCT_ID</th>\n",
       "      <th>TITLE</th>\n",
       "      <th>BULLET_POINTS</th>\n",
       "      <th>DESCRIPTION</th>\n",
       "      <th>PRODUCT_TYPE_ID</th>\n",
       "      <th>PRODUCT_LENGTH</th>\n",
       "    </tr>\n",
       "  </thead>\n",
       "  <tbody>\n",
       "    <tr>\n",
       "      <th>2</th>\n",
       "      <td>2765088</td>\n",
       "      <td>PRIKNIK Horn Red Electric Air Horn Compressor ...</td>\n",
       "      <td>[Loud Dual Tone Trumpet Horn, Compatible With ...</td>\n",
       "      <td>Specifications: Color: Red, Material: Aluminiu...</td>\n",
       "      <td>7537</td>\n",
       "      <td>748.031495</td>\n",
       "    </tr>\n",
       "    <tr>\n",
       "      <th>3</th>\n",
       "      <td>1594019</td>\n",
       "      <td>ALISHAH Women's Cotton Ankle Length Leggings C...</td>\n",
       "      <td>[Made By 95%cotton and 5% Lycra which gives yo...</td>\n",
       "      <td>AISHAH Women's Lycra Cotton Ankel Leggings. Br...</td>\n",
       "      <td>2996</td>\n",
       "      <td>787.401574</td>\n",
       "    </tr>\n",
       "    <tr>\n",
       "      <th>5</th>\n",
       "      <td>2152929</td>\n",
       "      <td>HINS Metal Bucket Shape Plant Pot for Indoor &amp;...</td>\n",
       "      <td>[Simple and elegant, great for displaying indo...</td>\n",
       "      <td>HINS Brings you the most Elegant Looking Pot w...</td>\n",
       "      <td>5725</td>\n",
       "      <td>950.000000</td>\n",
       "    </tr>\n",
       "    <tr>\n",
       "      <th>7</th>\n",
       "      <td>2026580</td>\n",
       "      <td>Delavala Self Adhesive Kitchen Backsplash Wall...</td>\n",
       "      <td>[HIGH QUALITY PVC MATERIAL: The kitchen alumin...</td>\n",
       "      <td>&lt;p&gt;&lt;strong&gt;Aluminum Foil Stickers-good kitchen...</td>\n",
       "      <td>6030</td>\n",
       "      <td>984.251967</td>\n",
       "    </tr>\n",
       "    <tr>\n",
       "      <th>9</th>\n",
       "      <td>2998633</td>\n",
       "      <td>Hexwell Essential oil for Home Fragrance Oil A...</td>\n",
       "      <td>[100% Pure And Natural Essential Oil Or Fragra...</td>\n",
       "      <td>Transform your home, workplace or hotel room i...</td>\n",
       "      <td>8201</td>\n",
       "      <td>393.700787</td>\n",
       "    </tr>\n",
       "  </tbody>\n",
       "</table>\n",
       "</div>"
      ],
      "text/plain": [
       "   PRODUCT_ID                                              TITLE  \\\n",
       "2     2765088  PRIKNIK Horn Red Electric Air Horn Compressor ...   \n",
       "3     1594019  ALISHAH Women's Cotton Ankle Length Leggings C...   \n",
       "5     2152929  HINS Metal Bucket Shape Plant Pot for Indoor &...   \n",
       "7     2026580  Delavala Self Adhesive Kitchen Backsplash Wall...   \n",
       "9     2998633  Hexwell Essential oil for Home Fragrance Oil A...   \n",
       "\n",
       "                                       BULLET_POINTS  \\\n",
       "2  [Loud Dual Tone Trumpet Horn, Compatible With ...   \n",
       "3  [Made By 95%cotton and 5% Lycra which gives yo...   \n",
       "5  [Simple and elegant, great for displaying indo...   \n",
       "7  [HIGH QUALITY PVC MATERIAL: The kitchen alumin...   \n",
       "9  [100% Pure And Natural Essential Oil Or Fragra...   \n",
       "\n",
       "                                         DESCRIPTION  PRODUCT_TYPE_ID  \\\n",
       "2  Specifications: Color: Red, Material: Aluminiu...             7537   \n",
       "3  AISHAH Women's Lycra Cotton Ankel Leggings. Br...             2996   \n",
       "5  HINS Brings you the most Elegant Looking Pot w...             5725   \n",
       "7  <p><strong>Aluminum Foil Stickers-good kitchen...             6030   \n",
       "9  Transform your home, workplace or hotel room i...             8201   \n",
       "\n",
       "   PRODUCT_LENGTH  \n",
       "2      748.031495  \n",
       "3      787.401574  \n",
       "5      950.000000  \n",
       "7      984.251967  \n",
       "9      393.700787  "
      ]
     },
     "execution_count": 4,
     "metadata": {},
     "output_type": "execute_result"
    }
   ],
   "source": [
    "df.head()"
   ]
  },
  {
   "cell_type": "code",
   "execution_count": 5,
   "id": "99a8d984",
   "metadata": {},
   "outputs": [
    {
     "ename": "KeyError",
     "evalue": "'PROUDUCT_ID'",
     "output_type": "error",
     "traceback": [
      "\u001b[0;31m---------------------------------------------------------------------------\u001b[0m",
      "\u001b[0;31mKeyError\u001b[0m                                  Traceback (most recent call last)",
      "\u001b[0;32m/opt/anaconda3/lib/python3.9/site-packages/pandas/core/indexes/base.py\u001b[0m in \u001b[0;36mget_loc\u001b[0;34m(self, key, method, tolerance)\u001b[0m\n\u001b[1;32m   3628\u001b[0m             \u001b[0;32mtry\u001b[0m\u001b[0;34m:\u001b[0m\u001b[0;34m\u001b[0m\u001b[0;34m\u001b[0m\u001b[0m\n\u001b[0;32m-> 3629\u001b[0;31m                 \u001b[0;32mreturn\u001b[0m \u001b[0mself\u001b[0m\u001b[0;34m.\u001b[0m\u001b[0m_engine\u001b[0m\u001b[0;34m.\u001b[0m\u001b[0mget_loc\u001b[0m\u001b[0;34m(\u001b[0m\u001b[0mcasted_key\u001b[0m\u001b[0;34m)\u001b[0m\u001b[0;34m\u001b[0m\u001b[0;34m\u001b[0m\u001b[0m\n\u001b[0m\u001b[1;32m   3630\u001b[0m             \u001b[0;32mexcept\u001b[0m \u001b[0mKeyError\u001b[0m \u001b[0;32mas\u001b[0m \u001b[0merr\u001b[0m\u001b[0;34m:\u001b[0m\u001b[0;34m\u001b[0m\u001b[0;34m\u001b[0m\u001b[0m\n",
      "\u001b[0;32m/opt/anaconda3/lib/python3.9/site-packages/pandas/_libs/index.pyx\u001b[0m in \u001b[0;36mpandas._libs.index.IndexEngine.get_loc\u001b[0;34m()\u001b[0m\n",
      "\u001b[0;32m/opt/anaconda3/lib/python3.9/site-packages/pandas/_libs/index.pyx\u001b[0m in \u001b[0;36mpandas._libs.index.IndexEngine.get_loc\u001b[0;34m()\u001b[0m\n",
      "\u001b[0;32mpandas/_libs/hashtable_class_helper.pxi\u001b[0m in \u001b[0;36mpandas._libs.hashtable.PyObjectHashTable.get_item\u001b[0;34m()\u001b[0m\n",
      "\u001b[0;32mpandas/_libs/hashtable_class_helper.pxi\u001b[0m in \u001b[0;36mpandas._libs.hashtable.PyObjectHashTable.get_item\u001b[0;34m()\u001b[0m\n",
      "\u001b[0;31mKeyError\u001b[0m: 'PROUDUCT_ID'",
      "\nThe above exception was the direct cause of the following exception:\n",
      "\u001b[0;31mKeyError\u001b[0m                                  Traceback (most recent call last)",
      "\u001b[0;32m/var/folders/zy/0hsjzmxx5n38f7bh72b46yl80000gn/T/ipykernel_5844/1115981107.py\u001b[0m in \u001b[0;36m<module>\u001b[0;34m\u001b[0m\n\u001b[0;32m----> 1\u001b[0;31m \u001b[0mdf\u001b[0m\u001b[0;34m[\u001b[0m\u001b[0;34m\"PROUDUCT_ID\"\u001b[0m\u001b[0;34m]\u001b[0m\u001b[0;34m.\u001b[0m\u001b[0mvalue_counts\u001b[0m\u001b[0;34m(\u001b[0m\u001b[0;34m)\u001b[0m\u001b[0;34m\u001b[0m\u001b[0;34m\u001b[0m\u001b[0m\n\u001b[0m",
      "\u001b[0;32m/opt/anaconda3/lib/python3.9/site-packages/pandas/core/frame.py\u001b[0m in \u001b[0;36m__getitem__\u001b[0;34m(self, key)\u001b[0m\n\u001b[1;32m   3503\u001b[0m             \u001b[0;32mif\u001b[0m \u001b[0mself\u001b[0m\u001b[0;34m.\u001b[0m\u001b[0mcolumns\u001b[0m\u001b[0;34m.\u001b[0m\u001b[0mnlevels\u001b[0m \u001b[0;34m>\u001b[0m \u001b[0;36m1\u001b[0m\u001b[0;34m:\u001b[0m\u001b[0;34m\u001b[0m\u001b[0;34m\u001b[0m\u001b[0m\n\u001b[1;32m   3504\u001b[0m                 \u001b[0;32mreturn\u001b[0m \u001b[0mself\u001b[0m\u001b[0;34m.\u001b[0m\u001b[0m_getitem_multilevel\u001b[0m\u001b[0;34m(\u001b[0m\u001b[0mkey\u001b[0m\u001b[0;34m)\u001b[0m\u001b[0;34m\u001b[0m\u001b[0;34m\u001b[0m\u001b[0m\n\u001b[0;32m-> 3505\u001b[0;31m             \u001b[0mindexer\u001b[0m \u001b[0;34m=\u001b[0m \u001b[0mself\u001b[0m\u001b[0;34m.\u001b[0m\u001b[0mcolumns\u001b[0m\u001b[0;34m.\u001b[0m\u001b[0mget_loc\u001b[0m\u001b[0;34m(\u001b[0m\u001b[0mkey\u001b[0m\u001b[0;34m)\u001b[0m\u001b[0;34m\u001b[0m\u001b[0;34m\u001b[0m\u001b[0m\n\u001b[0m\u001b[1;32m   3506\u001b[0m             \u001b[0;32mif\u001b[0m \u001b[0mis_integer\u001b[0m\u001b[0;34m(\u001b[0m\u001b[0mindexer\u001b[0m\u001b[0;34m)\u001b[0m\u001b[0;34m:\u001b[0m\u001b[0;34m\u001b[0m\u001b[0;34m\u001b[0m\u001b[0m\n\u001b[1;32m   3507\u001b[0m                 \u001b[0mindexer\u001b[0m \u001b[0;34m=\u001b[0m \u001b[0;34m[\u001b[0m\u001b[0mindexer\u001b[0m\u001b[0;34m]\u001b[0m\u001b[0;34m\u001b[0m\u001b[0;34m\u001b[0m\u001b[0m\n",
      "\u001b[0;32m/opt/anaconda3/lib/python3.9/site-packages/pandas/core/indexes/base.py\u001b[0m in \u001b[0;36mget_loc\u001b[0;34m(self, key, method, tolerance)\u001b[0m\n\u001b[1;32m   3629\u001b[0m                 \u001b[0;32mreturn\u001b[0m \u001b[0mself\u001b[0m\u001b[0;34m.\u001b[0m\u001b[0m_engine\u001b[0m\u001b[0;34m.\u001b[0m\u001b[0mget_loc\u001b[0m\u001b[0;34m(\u001b[0m\u001b[0mcasted_key\u001b[0m\u001b[0;34m)\u001b[0m\u001b[0;34m\u001b[0m\u001b[0;34m\u001b[0m\u001b[0m\n\u001b[1;32m   3630\u001b[0m             \u001b[0;32mexcept\u001b[0m \u001b[0mKeyError\u001b[0m \u001b[0;32mas\u001b[0m \u001b[0merr\u001b[0m\u001b[0;34m:\u001b[0m\u001b[0;34m\u001b[0m\u001b[0;34m\u001b[0m\u001b[0m\n\u001b[0;32m-> 3631\u001b[0;31m                 \u001b[0;32mraise\u001b[0m \u001b[0mKeyError\u001b[0m\u001b[0;34m(\u001b[0m\u001b[0mkey\u001b[0m\u001b[0;34m)\u001b[0m \u001b[0;32mfrom\u001b[0m \u001b[0merr\u001b[0m\u001b[0;34m\u001b[0m\u001b[0;34m\u001b[0m\u001b[0m\n\u001b[0m\u001b[1;32m   3632\u001b[0m             \u001b[0;32mexcept\u001b[0m \u001b[0mTypeError\u001b[0m\u001b[0;34m:\u001b[0m\u001b[0;34m\u001b[0m\u001b[0;34m\u001b[0m\u001b[0m\n\u001b[1;32m   3633\u001b[0m                 \u001b[0;31m# If we have a listlike key, _check_indexing_error will raise\u001b[0m\u001b[0;34m\u001b[0m\u001b[0;34m\u001b[0m\u001b[0m\n",
      "\u001b[0;31mKeyError\u001b[0m: 'PROUDUCT_ID'"
     ]
    }
   ],
   "source": []
  },
  {
   "cell_type": "code",
   "execution_count": 5,
   "id": "dc5448d1",
   "metadata": {},
   "outputs": [
    {
     "data": {
      "text/plain": [
       "2765088    1\n",
       "1995254    1\n",
       "2912141    1\n",
       "1094448    1\n",
       "2568373    1\n",
       "          ..\n",
       "2677271    1\n",
       "2233481    1\n",
       "2462268    1\n",
       "1011843    1\n",
       "2803116    1\n",
       "Name: PRODUCT_ID, Length: 100000, dtype: int64"
      ]
     },
     "execution_count": 5,
     "metadata": {},
     "output_type": "execute_result"
    }
   ],
   "source": [
    "df[\"PRODUCT_ID\"].value_counts()"
   ]
  },
  {
   "cell_type": "code",
   "execution_count": 6,
   "id": "b0e034b6",
   "metadata": {},
   "outputs": [
    {
     "data": {
      "text/plain": [
       "Outdoor Patio Furniture Covers Waterproof Rectangular Patio Table Cover, Oxford Polyester Material Windproof, Anti-UV,Durable Waterproof Dustproof Outdoor Cover for Garden    7\n",
       "Zeya Yellow Gold Ring                                                                                                                                                          5\n",
       "Irnado Women Leather Comfortable Footwear For All Occasions                                                                                                                    4\n",
       "Antigua Men's NFL 75th Anniversary Victory Full-Zip Hoodie                                                                                                                     4\n",
       "Design Cart Designer Printed Hard Case Back Cover for Vivo Y81i / Vivo 1812                                                                                                    4\n",
       "                                                                                                                                                                              ..\n",
       "Stylista Cooler Cover Compatible for Hindware Snowcrest 23 Liter Medium Tower Cooler Polka Dot Pattern Black                                                                   1\n",
       "Nextime Simple Concreto Classic Wall Clock - 39.5 cm                                                                                                                           1\n",
       "AGRADA - Framed Durga Maa Painting Picture For Home, Office Wall Decor in Home Decorative Gift Item Digital Reprint Poster Painting (13 inch x 13 inch)                        1\n",
       "Soda Fountain Machine One Flavor                                                                                                                                               1\n",
       "CoversGap Samsung Galaxy M31s Back Cover - Pink Black - Mobile Phone Hard Back Cover Case Stylish Designer 3D Printed for Girls & Boys                                         1\n",
       "Name: TITLE, Length: 99742, dtype: int64"
      ]
     },
     "execution_count": 6,
     "metadata": {},
     "output_type": "execute_result"
    }
   ],
   "source": [
    "df[\"TITLE\"].value_counts()"
   ]
  },
  {
   "cell_type": "code",
   "execution_count": 7,
   "id": "0e3e2ac0",
   "metadata": {},
   "outputs": [
    {
     "data": {
      "text/plain": [
       "[Good quality and Suitable to use.,This Product comes in a proper Packaging.,In case of any query or issue. Feel free to reach out to us.,Contains: Pack of 1.,Delivery within 3-5 weeks.]                                                                                                                                                                                                                                                                                                                                                                                                                                                                                                                                                                                                                                                                                                                                                                                                                                                                                                                                             939\n",
       "[Generic are \"Made in India' products using sublimation printing process, with print covering all 3 sides of cover.,Due to the nature of different monitors/tablets/smart phones, color variation may occur and the product may look slightly different in person being a handmade item.,Generic Cases are waterproof, fade resistant, non-peeling, printed with vibrant eco-friendly inks, extremely slim fitting with access to all functions.,Generic offer lifetime print/design guarantee.,Generic provide with maximum protection to your phone and maximum comfort for use.]                                                                                                                                                                                                                                                                                                                                                                                                                                                                                                                                                    499\n",
       "[New & Imported Item,Delivers within 3 to 5 weeks,Item contains Pack of 1,In case of any query please contact seller.,Please check the details of an item carefully before placing an order, as order once placed cannot be cancelled.]                                                                                                                                                                                                                                                                                                                                                                                                                                                                                                                                                                                                                                                                                                                                                                                                                                                                                                314\n",
       "[New in box,Good quality and Suitable to use.,High Quality Durable and Eco-friendly Material.,100% Brand New,Package contains Pack of 1 Item. In case of any query please contact seller.]                                                                                                                                                                                                                                                                                                                                                                                                                                                                                                                                                                                                                                                                                                                                                                                                                                                                                                                                             248\n",
       "[New & Imported Item.,Contains: Pack of 1,In case of any query or issue. Feel free to reach out to us.,Delivery within 3-5 weeks,Order once placed, cannot be cancelled later.]                                                                                                                                                                                                                                                                                                                                                                                                                                                                                                                                                                                                                                                                                                                                                                                                                                                                                                                                                        195\n",
       "                                                                                                                                                                                                                                                                                                                                                                                                                                                                                                                                                                                                                                                                                                                                                                                                                                                                                                                                                                                                                                                                                                                                      ... \n",
       "[The Perfect Pack It, Smash It, Pop It Back Into Great Shape Crushable Hat.,Wear-without-worry water-repellency,Easy sizing: S(6 3/4-6 7/8), M(7-7 1/8), L(7 1/4-7 3/8), XL(7 1/2-7 5/8)]                                                                                                                                                                                                                                                                                                                                                                                                                                                                                                                                                                                                                                                                                                                                                                                                                                                                                                                                                1\n",
       "[Lunch box with PP made lid, durable and long service life.,Collapsible design, lightweight and portable. Saves space anf more convenient to use.,Color: Pink, Material: silicone, Size: Approx. 18.5x12x6.6 cm / 7.28x4.72x2.60 inch,Package Includes: 1 Piece Lunch Box,Kindaly reffer the product description before buying the product.]                                                                                                                                                                                                                                                                                                                                                                                                                                                                                                                                                                                                                                                                                                                                                                                             1\n",
       "[【JAB SAW Oscillating Tool Blades】Our drywall oscillating tool accessories are designed to make curved and straight cuts in drywall. Features a offset hole pattern for optimal cut angle.,【WIDE-USE APPLICATION】The jab saw oscillating blade is ideal for making cuts out on drywall, electrical boxes and recessed lighting.,【PERFECT DRYWALL BLADES 】The oscillating Tool Drywall Jab Saw Blade is perfect for recessed lighting cut-outs,it can easily and precisely cut square openings of any size on drywall for you to install electric boxes.,【PIERCING TIP DESIGN】Using a piercing tip on the drywall when you start cutting, start your cut easily and accurately.,【Wide Compatibility】Our drywall oscillating saw blades are compatible with many oscillating tools including Fein Multimaster, Bosch, Dremel, Ryobi, Hitachi, Chicago, Mastercraft, Milwaukee, Ridgid, Black & Decker, Rockwell, Dewalt, Einhell, Porter Cable, Craftsman and more.]                                                                                                                                                                       1\n",
       "[DESIGN:A Line, High Split &Open Back&Waist Cut-off design show the lines of the shoulder and chest,waist and hips are also a good cover.Made of elastic fabric of satin& appearance minimalism,elegant&modern.High quality Satin dress confortable to wear.,OCCASION:This elastic dress,Perfect for formal event,such as Bridal party,wedding party,Homecoming dance,Formal,evening occasion,cocktail party,sweet 16,and other special occasions,etc.,CUSTOM MADE：Custom made service is available for free.Please refer to the size chart and E-mail us your exact Measurements of bust,waist,hips,height(barefoot),height of high heels and color No. after you place the order.,DELIVERY TIME:Tailoring process will take 4-8 business days.We have two shipping ways.1.the expedited way will take 2-3 days.2.the standard way will take 7-40 days .If your time is urgent.Please choose expedited shipping way.,24-HOURS CUSTOMER SERVICE：If you have any query on our product after you received it, we sincerely hope you can contact us directly to get the best solution. Any problem can be definitely solved friendly.]      1\n",
       "[Mobile Protection: CoversGap Samsung Galaxy M31s Cover and Case provide best protection to your phone; it prevents it from the damages a smartphone got from falls and drops.,Phone Case Quality: Our Back Cover for Samsung Galaxy M31s is made with high quality Poly-carbonate material which provides it sturdy grip and matte finish feel.,Print Quality & Warranty: Mobile Cover for Samsung Galaxy M31s printed by coversgap is the best cases you can get. These cases are printed with original Ink which makes the print never fades away. We provide life time print warranty for our Samsung Galaxy M31s Phone Back Cover.,Precision: CoversGap Samsung Galaxy M31s Mobile Case is highly precise with the cut-outs and opening for ports and buttons. They provide easy access to all your buttons and earphone jack too.,Designs & Best Gift Item: CoversGap Samsung Galaxy M31s back cover are built with cool, funky and awesome designs in mind, we cater you the coolest phone cases ever for you device and not only that you can gift these cases to your loved ones too.]                                          1\n",
       "Name: BULLET_POINTS, Length: 84667, dtype: int64"
      ]
     },
     "execution_count": 7,
     "metadata": {},
     "output_type": "execute_result"
    }
   ],
   "source": [
    "df[\"BULLET_POINTS\"].value_counts()"
   ]
  },
  {
   "cell_type": "code",
   "execution_count": 8,
   "id": "ff73ed3d",
   "metadata": {},
   "outputs": [
    {
     "data": {
      "text/plain": [
       "This Case is Made up of Hard Polycarbonate Plastic and printed on all 3 sides of back cover. This cover protects your mobile from scratches and bumps. This printed case gives premier look to your mobile.                                                                                                                                                                                                                                                                                                                                                                                                                                                                                                                                                                                                                                                                                                                                                                                                                                                                                                                                                                                                                                                                                                                                                                                                                                                        846\n",
       "Well paired with any clothes and can be worn for any occasion. Best choice for versatile use                                                                                                                                                                                                                                                                                                                                                                                                                                                                                                                                                                                                                                                                                                                                                                                                                                                                                                                                                                                                                                                                                                                                                                                                                                                                                                                                                                       190\n",
       "Casotec Print Design Hard Back Case provides protection by preventing your Mobile Phone from dust and unnecessary scratches. It is made to fit perfect and gives the device its maximum protection. The Hard Case is reinforced from the Proper edges, sides and back to prolong the life of your Mobile Phone. Besides its protection, it also has openings precisely made for the side buttons, charger port / dock connector, headset jack and speaker which allow you full access to all the functions on your device. Easy to install and last for a long time and the pattern on the surface looks great. It is the perfect case for protecting your Phone from scratches, shock, and the elements. Kindly Note: There may be slight change in color of design printed on case as seen on website, as there can be different monitor settings and also difference in ink transfer rate of printer to case.                                                                                                                                                                                                                                                                                                                                                                                                                                                                                                                                                   114\n",
       "<p><strong>FLASH CHARGING:</strong></p><p>Equipped with Flash Charging, you can rest easy knowing that all your devices are getting juiced at maximum speeds.</p><p><strong>UNIVERSAL MAX SPEED:</strong></p><p>Charge any USB powered devices at top speed continuously.</p><p><strong>All Round Safety:</strong></p><p>In- Built safety checks like voltage, temperature and current control, protects your connected device from damage due to inconsistencies in the power output.</p><p><strong>Indian Connectors:</strong></p><p>Made for Indian sockets, the wall charger lets you plug in without the need for an adapter And Over-current, Short-circuit and Over-temperature protect your device.</p><p><strong>Smart Charge:</strong></p><p>Auto Detects the connected device and charges it at the fastest speed of the device.</p><p><strong>Multi-Protection:</strong></p><p>It provides xculsive surge protection, short circuit prevention, temperature control, and more to deliver unbeatable protection to you and your devices.</p><p><strong>Premium-Design with Compact-Size:</strong></p><p>High-gloss detailing and comfort grip design gives a sleek look to this powerful device.</p><p>This tough and compact charger is definitely your best travel companion.</p><p>&nbsp;</p><p><strong>Other Feature:</strong></p><p>Premium micro chip&nbsp;</p><p>Multi-Protect</p><p>Travel Friendly&nbsp;</p>                                   107\n",
       "This Product is Designed for Overall Protection of Your Device. It Ensures Complete Safety and Quality Satisfaction.                                                                                                                                                                                                                                                                                                                                                                                                                                                                                                                                                                                                                                                                                                                                                                                                                                                                                                                                                                                                                                                                                                                                                                                                                                                                                                                                               107\n",
       "                                                                                                                                                                                                                                                                                                                                                                                                                                                                                                                                                                                                                                                                                                                                                                                                                                                                                                                                                                                                                                                                                                                                                                                                                                                                                                                                                                                                                                                                  ... \n",
       "Unframed Sticker poster || size: 12inch x 18inch (30.5cms x 45.7cms): Unframed cover every wall, door and cupboard with our exhaustive, versatile and affordable range of posters. With clean images and vivid colours, our posters make a great choice for the value seeker as well as for seasonal décor. Posters are printed on a premium quality Sticker paper which is thicker and far superior than the standard poster paper available with the traditional stores. Beautiful interior home décor artwork gifts for living, drawing and dining room, outdoor, gallery, hotels, bar, lounge, restaurants, office, reception, kitchen area, balcony.                                                                                                                                                                                                                                                                                                                                                                                                                                                                                                                                                                                                                                                                                                                                                                                                            1\n",
       "WorldCare Mother Daughter Dresses Summer Fashion Off Shoulder Matching Mom and Girl Clothes Pleated Family Look Outfits : Green, Girl 6-7T                                                                                                                                                                                                                                                                                                                                                                                                                                                                                                                                                                                                                                                                                                                                                                                                                                                                                                                                                                                                                                                                                                                                                                                                                                                                                                                           1\n",
       "<p>KALYSTE Freestanding Towel Drying Rack – Bathroom Brass Towel Holder Stand.</p>                                                                                                                                                                                                                                                                                                                                                                                                                                                                                                                                                                                                                                                                                                                                                                                                                                                                                                                                                                                                                                                                                                                                                                                                                                                                                                                                                                                   1\n",
       "Does your wrist feel sore when using an ordinary mouse? <br>After typing or playing games for hours, will your arms and hands become numb?<br>Don'T worry, Our memory foam wrist rest kit will help you out!<br><b>Features:</b><br> Ergonomic shape and just the right Height keeps your wrist in a natural position rather than a twisted angle.<br>Non-slip textured bottom with the natural rubber material to prevent gliding or unnecessary movement.<br>Memory foam structure, comfortable lightweight and durable, no deformation. Adopt soft and breathable materials to provide lasting support for your wrist.<br>The sizes of keyboard wrist pad and mouse wrist pad fit for all sizes of computer mouse and keyboards and laptops. It is also helpful to avoid joint and wrist problems.<br>Fit for office work, home computer, gaming, laptop, and all typing and operating mouse activities.<br> Suitable for women, men, girls, boys, teens, kids, elderly, students, teachers, designers, office clerks, secretaries, writers, administrative professionals, programmers, gamers, etc.<br> <b>Gift tips:</b> Mother's day, Father's day, Teacher appreciation week, Graduation gift, Promotion gift, Birthday gift, Thanks giving day, Christmas day, etc.<br><b>Dimensions:</b> Keyboard Wrist Pad: L17\" x W3.3\" x H1\", Mouse Wrist Rest: L5.3\"xW3\"xH1\".<br><b>Package Included:</b><br>1× keyboard wrist rest pad<br>1× mouse wrist rest pad      1\n",
       "<b>Keyboard Cover Skin for Dell KM636 Wireless Keyboard/Dell KB216 Wired Keyboard/Dell Optiplex 5250 3050 3240 5460 7450 7050/Dell Inspiron AIO 3475/3670/3477 All-in-one Desktop Keyboard Skin, US Layout</b><br><br> <b>Features:</b><br> The keyboard cover is made with premium engineering grade Silicone, durable and flexible, non-toxic and enviromental-friendly.<br> The Keyboard Cover Provides Full protection for your laptop keyboard, waterproof and dustproof design keep your keyboard away from dust, water spills, key wear and more.<br> Soft and flexible silicone keyboard cover skin, easy and comfortable for typing, can weaken the sound in typing effectively.<br> Washable and reusable, can be washed in soapy water, easy to apply and remove for cleaning or disinfecting.<br><br> <b>Compatible Models:</b><br> ✔Dell KM636 Wireless Keyboard<br> ✔Dell KB216 Wired Keyboard<br> ✔Dell Optiplex 5250 3050 3240 5460 7450 7050 All-in one Desktop<br> ✔Dell Inspiron AIO 3475/3670/3477 All-in one Desktop<br><br> <b>NOTE:</b><br> This keyboard cover ONLY fits US version, not EU version, DO check your \"Enter\" key to make sure it is the same rectangle as other keys.<br> <br> <b>Package Included: </b><br> - 1pcs x Silicone keyboard cover for Dell KM636 Wireless Keyboard/Dell KB216 Wired Keyboard<br>                                                                                                                   1\n",
       "Name: DESCRIPTION, Length: 85144, dtype: int64"
      ]
     },
     "execution_count": 8,
     "metadata": {},
     "output_type": "execute_result"
    }
   ],
   "source": [
    "df[\"DESCRIPTION\"].value_counts()"
   ]
  },
  {
   "cell_type": "code",
   "execution_count": 9,
   "id": "5a0c7328",
   "metadata": {},
   "outputs": [
    {
     "data": {
      "text/plain": [
       "12064    5274\n",
       "0        1800\n",
       "2879     1441\n",
       "2211     1361\n",
       "2986     1306\n",
       "         ... \n",
       "2536        1\n",
       "3559        1\n",
       "1128        1\n",
       "3899        1\n",
       "720         1\n",
       "Name: PRODUCT_TYPE_ID, Length: 6135, dtype: int64"
      ]
     },
     "execution_count": 9,
     "metadata": {},
     "output_type": "execute_result"
    }
   ],
   "source": [
    "df[\"PRODUCT_TYPE_ID\"].value_counts()"
   ]
  },
  {
   "cell_type": "code",
   "execution_count": 10,
   "id": "9f969303",
   "metadata": {},
   "outputs": [
    {
     "data": {
      "text/plain": [
       "5.905512e+02    6265\n",
       "3.937008e+02    5079\n",
       "7.874016e+02    3312\n",
       "7.086614e+02    2366\n",
       "1.200000e+03    2207\n",
       "                ... \n",
       "2.770000e+02       1\n",
       "1.800000e+06       1\n",
       "3.409449e+03       1\n",
       "3.137000e+03       1\n",
       "9.059055e+02       1\n",
       "Name: PRODUCT_LENGTH, Length: 3878, dtype: int64"
      ]
     },
     "execution_count": 10,
     "metadata": {},
     "output_type": "execute_result"
    }
   ],
   "source": [
    "df[\"PRODUCT_LENGTH\"].value_counts()"
   ]
  },
  {
   "cell_type": "code",
   "execution_count": 11,
   "id": "1cd5669b",
   "metadata": {},
   "outputs": [
    {
     "data": {
      "text/plain": [
       "(100000, 6)"
      ]
     },
     "execution_count": 11,
     "metadata": {},
     "output_type": "execute_result"
    }
   ],
   "source": [
    "df.shape"
   ]
  },
  {
   "cell_type": "code",
   "execution_count": 12,
   "id": "7750fd8c",
   "metadata": {},
   "outputs": [
    {
     "data": {
      "text/plain": [
       "Index(['PRODUCT_ID', 'TITLE', 'BULLET_POINTS', 'DESCRIPTION',\n",
       "       'PRODUCT_TYPE_ID', 'PRODUCT_LENGTH'],\n",
       "      dtype='object')"
      ]
     },
     "execution_count": 12,
     "metadata": {},
     "output_type": "execute_result"
    }
   ],
   "source": [
    "df.columns"
   ]
  },
  {
   "cell_type": "code",
   "execution_count": 13,
   "id": "266fe5cf",
   "metadata": {},
   "outputs": [
    {
     "data": {
      "text/plain": [
       "Index(['PRODUCT_ID', 'TITLE', 'BULLET_POINTS', 'DESCRIPTION',\n",
       "       'PRODUCT_TYPE_ID'],\n",
       "      dtype='object')"
      ]
     },
     "execution_count": 13,
     "metadata": {},
     "output_type": "execute_result"
    }
   ],
   "source": [
    "test_data.columns"
   ]
  },
  {
   "cell_type": "code",
   "execution_count": 14,
   "id": "88037a70",
   "metadata": {},
   "outputs": [],
   "source": [
    "def prep_train_data(td):\n",
    "    new_td = td.drop_duplicates()\n",
    "    new_td = new_td.dropna()\n",
    "    new_td['PRODUCT_ID'] = new_td.index+1\n",
    "    new_td.set_index('PRODUCT_ID',inplace=True)\n",
    "    new_td['data']= new_td['TITLE'].astype(str)+\" \"+new_td['BULLET_POINTS'].astype(str)+\" \"+new_td['DESCRIPTION'].astype(str)+\" \"+new_td['PRODUCT_TYPE_ID'].astype(str)\n",
    "    return new_td"
   ]
  },
  {
   "cell_type": "code",
   "execution_count": 15,
   "id": "27d7a4a2",
   "metadata": {},
   "outputs": [],
   "source": [
    "def prep_test_data(td):\n",
    "    new_td = td.drop_duplicates()\n",
    "    new_td = new_td.dropna()\n",
    "    new_td.set_index('PRODUCT_ID',inplace=True)\n",
    "    new_td['data']= new_td['TITLE'].astype(str)+\" \"+new_td['BULLET_POINTS'].astype(str)+\" \"+new_td['DESCRIPTION'].astype(str)+\" \"+new_td['PRODUCT_TYPE_ID'].astype(str)\n",
    "    return new_td\n"
   ]
  },
  {
   "cell_type": "code",
   "execution_count": 16,
   "id": "f15d6693",
   "metadata": {},
   "outputs": [
    {
     "data": {
      "text/html": [
       "<div>\n",
       "<style scoped>\n",
       "    .dataframe tbody tr th:only-of-type {\n",
       "        vertical-align: middle;\n",
       "    }\n",
       "\n",
       "    .dataframe tbody tr th {\n",
       "        vertical-align: top;\n",
       "    }\n",
       "\n",
       "    .dataframe thead th {\n",
       "        text-align: right;\n",
       "    }\n",
       "</style>\n",
       "<table border=\"1\" class=\"dataframe\">\n",
       "  <thead>\n",
       "    <tr style=\"text-align: right;\">\n",
       "      <th></th>\n",
       "      <th>TITLE</th>\n",
       "      <th>BULLET_POINTS</th>\n",
       "      <th>DESCRIPTION</th>\n",
       "      <th>PRODUCT_TYPE_ID</th>\n",
       "      <th>PRODUCT_LENGTH</th>\n",
       "      <th>data</th>\n",
       "    </tr>\n",
       "    <tr>\n",
       "      <th>PRODUCT_ID</th>\n",
       "      <th></th>\n",
       "      <th></th>\n",
       "      <th></th>\n",
       "      <th></th>\n",
       "      <th></th>\n",
       "      <th></th>\n",
       "    </tr>\n",
       "  </thead>\n",
       "  <tbody>\n",
       "    <tr>\n",
       "      <th>3</th>\n",
       "      <td>PRIKNIK Horn Red Electric Air Horn Compressor ...</td>\n",
       "      <td>[Loud Dual Tone Trumpet Horn, Compatible With ...</td>\n",
       "      <td>Specifications: Color: Red, Material: Aluminiu...</td>\n",
       "      <td>7537</td>\n",
       "      <td>748.031495</td>\n",
       "      <td>PRIKNIK Horn Red Electric Air Horn Compressor ...</td>\n",
       "    </tr>\n",
       "    <tr>\n",
       "      <th>4</th>\n",
       "      <td>ALISHAH Women's Cotton Ankle Length Leggings C...</td>\n",
       "      <td>[Made By 95%cotton and 5% Lycra which gives yo...</td>\n",
       "      <td>AISHAH Women's Lycra Cotton Ankel Leggings. Br...</td>\n",
       "      <td>2996</td>\n",
       "      <td>787.401574</td>\n",
       "      <td>ALISHAH Women's Cotton Ankle Length Leggings C...</td>\n",
       "    </tr>\n",
       "    <tr>\n",
       "      <th>6</th>\n",
       "      <td>HINS Metal Bucket Shape Plant Pot for Indoor &amp;...</td>\n",
       "      <td>[Simple and elegant, great for displaying indo...</td>\n",
       "      <td>HINS Brings you the most Elegant Looking Pot w...</td>\n",
       "      <td>5725</td>\n",
       "      <td>950.000000</td>\n",
       "      <td>HINS Metal Bucket Shape Plant Pot for Indoor &amp;...</td>\n",
       "    </tr>\n",
       "    <tr>\n",
       "      <th>8</th>\n",
       "      <td>Delavala Self Adhesive Kitchen Backsplash Wall...</td>\n",
       "      <td>[HIGH QUALITY PVC MATERIAL: The kitchen alumin...</td>\n",
       "      <td>&lt;p&gt;&lt;strong&gt;Aluminum Foil Stickers-good kitchen...</td>\n",
       "      <td>6030</td>\n",
       "      <td>984.251967</td>\n",
       "      <td>Delavala Self Adhesive Kitchen Backsplash Wall...</td>\n",
       "    </tr>\n",
       "    <tr>\n",
       "      <th>10</th>\n",
       "      <td>Hexwell Essential oil for Home Fragrance Oil A...</td>\n",
       "      <td>[100% Pure And Natural Essential Oil Or Fragra...</td>\n",
       "      <td>Transform your home, workplace or hotel room i...</td>\n",
       "      <td>8201</td>\n",
       "      <td>393.700787</td>\n",
       "      <td>Hexwell Essential oil for Home Fragrance Oil A...</td>\n",
       "    </tr>\n",
       "  </tbody>\n",
       "</table>\n",
       "</div>"
      ],
      "text/plain": [
       "                                                        TITLE  \\\n",
       "PRODUCT_ID                                                      \n",
       "3           PRIKNIK Horn Red Electric Air Horn Compressor ...   \n",
       "4           ALISHAH Women's Cotton Ankle Length Leggings C...   \n",
       "6           HINS Metal Bucket Shape Plant Pot for Indoor &...   \n",
       "8           Delavala Self Adhesive Kitchen Backsplash Wall...   \n",
       "10          Hexwell Essential oil for Home Fragrance Oil A...   \n",
       "\n",
       "                                                BULLET_POINTS  \\\n",
       "PRODUCT_ID                                                      \n",
       "3           [Loud Dual Tone Trumpet Horn, Compatible With ...   \n",
       "4           [Made By 95%cotton and 5% Lycra which gives yo...   \n",
       "6           [Simple and elegant, great for displaying indo...   \n",
       "8           [HIGH QUALITY PVC MATERIAL: The kitchen alumin...   \n",
       "10          [100% Pure And Natural Essential Oil Or Fragra...   \n",
       "\n",
       "                                                  DESCRIPTION  \\\n",
       "PRODUCT_ID                                                      \n",
       "3           Specifications: Color: Red, Material: Aluminiu...   \n",
       "4           AISHAH Women's Lycra Cotton Ankel Leggings. Br...   \n",
       "6           HINS Brings you the most Elegant Looking Pot w...   \n",
       "8           <p><strong>Aluminum Foil Stickers-good kitchen...   \n",
       "10          Transform your home, workplace or hotel room i...   \n",
       "\n",
       "            PRODUCT_TYPE_ID  PRODUCT_LENGTH  \\\n",
       "PRODUCT_ID                                    \n",
       "3                      7537      748.031495   \n",
       "4                      2996      787.401574   \n",
       "6                      5725      950.000000   \n",
       "8                      6030      984.251967   \n",
       "10                     8201      393.700787   \n",
       "\n",
       "                                                         data  \n",
       "PRODUCT_ID                                                     \n",
       "3           PRIKNIK Horn Red Electric Air Horn Compressor ...  \n",
       "4           ALISHAH Women's Cotton Ankle Length Leggings C...  \n",
       "6           HINS Metal Bucket Shape Plant Pot for Indoor &...  \n",
       "8           Delavala Self Adhesive Kitchen Backsplash Wall...  \n",
       "10          Hexwell Essential oil for Home Fragrance Oil A...  "
      ]
     },
     "execution_count": 16,
     "metadata": {},
     "output_type": "execute_result"
    }
   ],
   "source": [
    "new_df = prep_train_data(df)\n",
    "test_df = prep_test_data(test_data)\n",
    "new_df.head()"
   ]
  },
  {
   "cell_type": "code",
   "execution_count": 17,
   "id": "4377aa9c",
   "metadata": {},
   "outputs": [
    {
     "data": {
      "text/plain": [
       "(100000, 6)"
      ]
     },
     "execution_count": 17,
     "metadata": {},
     "output_type": "execute_result"
    }
   ],
   "source": [
    "new_df.shape"
   ]
  },
  {
   "cell_type": "code",
   "execution_count": 18,
   "id": "c9cd9276",
   "metadata": {},
   "outputs": [
    {
     "data": {
      "text/plain": [
       "<AxesSubplot:ylabel='PRODUCT_ID'>"
      ]
     },
     "execution_count": 18,
     "metadata": {},
     "output_type": "execute_result"
    },
    {
     "data": {
      "image/png": "[encoded data removed]",
      "text/plain": [
       "<Figure size 500x500 with 1 Axes>"
      ]
     },
     "metadata": {},
     "output_type": "display_data"
    }
   ],
   "source": [
    "plt.figure(figsize=(5,5))\n",
    "sns.heatmap(new_df.isnull(),yticklabels=False,cbar=False,cmap='viridis')"
   ]
  },
  {
   "cell_type": "code",
   "execution_count": 19,
   "id": "ee8b652e",
   "metadata": {},
   "outputs": [
    {
     "data": {
      "text/plain": [
       "<AxesSubplot:ylabel='PRODUCT_ID'>"
      ]
     },
     "execution_count": 19,
     "metadata": {},
     "output_type": "execute_result"
    },
    {
     "data": {
      "image/png": "[encoded data removed]",
      "text/plain": [
       "<Figure size 500x500 with 1 Axes>"
      ]
     },
     "metadata": {},
     "output_type": "display_data"
    }
   ],
   "source": [
    "plt.figure(figsize=(5,5))\n",
    "sns.heatmap(test_df.isnull(),yticklabels=False,cbar=False,cmap='viridis')"
   ]
  },
  {
   "cell_type": "code",
   "execution_count": 20,
   "id": "faa0660b",
   "metadata": {},
   "outputs": [
    {
     "name": "stdout",
     "output_type": "stream",
     "text": [
      "(100000, 5)\n",
      "(100000,)\n"
     ]
    }
   ],
   "source": [
    "y=new_df['PRODUCT_TYPE_ID']\n",
    "new_df.drop(['PRODUCT_TYPE_ID'],axis=1,inplace=True)\n",
    "print(new_df.shape)\n",
    "print(y.shape)"
   ]
  },
  {
   "cell_type": "code",
   "execution_count": 23,
   "id": "6ef82215",
   "metadata": {},
   "outputs": [
    {
     "name": "stdout",
     "output_type": "stream",
     "text": [
      "['i', 'me', 'my', 'myself', 'we', 'our', 'ours', 'ourselves', 'you', \"you're\", \"you've\", \"you'll\", \"you'd\", 'your', 'yours', 'yourself', 'yourselves', 'he', 'him', 'his', 'himself', 'she', \"she's\", 'her', 'hers', 'herself', 'it', \"it's\", 'its', 'itself', 'they', 'them', 'their', 'theirs', 'themselves', 'what', 'which', 'who', 'whom', 'this', 'that', \"that'll\", 'these', 'those', 'am', 'is', 'are', 'was', 'were', 'be', 'been', 'being', 'have', 'has', 'had', 'having', 'do', 'does', 'did', 'doing', 'a', 'an', 'the', 'and', 'but', 'if', 'or', 'because', 'as', 'until', 'while', 'of', 'at', 'by', 'for', 'with', 'about', 'against', 'between', 'into', 'through', 'during', 'before', 'after', 'above', 'below', 'to', 'from', 'up', 'down', 'in', 'out', 'on', 'off', 'over', 'under', 'again', 'further', 'then', 'once', 'here', 'there', 'when', 'where', 'why', 'how', 'all', 'any', 'both', 'each', 'few', 'more', 'most', 'other', 'some', 'such', 'no', 'nor', 'not', 'only', 'own', 'same', 'so', 'than', 'too', 'very', 's', 't', 'can', 'will', 'just', 'don', \"don't\", 'should', \"should've\", 'now', 'd', 'll', 'm', 'o', 're', 've', 'y', 'ain', 'aren', \"aren't\", 'couldn', \"couldn't\", 'didn', \"didn't\", 'doesn', \"doesn't\", 'hadn', \"hadn't\", 'hasn', \"hasn't\", 'haven', \"haven't\", 'isn', \"isn't\", 'ma', 'mightn', \"mightn't\", 'mustn', \"mustn't\", 'needn', \"needn't\", 'shan', \"shan't\", 'shouldn', \"shouldn't\", 'wasn', \"wasn't\", 'weren', \"weren't\", 'won', \"won't\", 'wouldn', \"wouldn't\"]\n",
      "!\"#$%&'()*+,-./:;<=>?@[\\]^_`{|}~\n"
     ]
    }
   ],
   "source": [
    "import string\n",
    "import nltk\n",
    "\n",
    "try:\n",
    "    from nltk.corpus import stopwords\n",
    "except LookupError:\n",
    "    nltk.downloader.Downloader().download('stopwords', timeout=10)\n",
    "    from nltk.corpus import stopwords\n",
    "\n",
    "stop_words = stopwords.words(\"english\")\n",
    "punc = string.punctuation\n",
    "spec_chars = [\"!\",'\"',\"#\",\"%\",\"&\",\"'\",\"(\",\")\",\n",
    "              \"*\",\"+\",\",\",\"-\",\".\",\"/\",\":\",\";\",\"<\",\n",
    "              \"=\",\">\",\"?\",\"@\",\"[\",\"\\\\\",\"]\",\"^\",\"_\",\n",
    "              \"`\",\"{\",\"|\",\"}\",\"~\",\"–\",\"0\",\"1\",\"2\",\"3\",\"4\",\"5\",\"6\",\"7\",\"8\",\"9\"]\n",
    "print(stop_words)\n",
    "print(punc)"
   ]
  },
  {
   "cell_type": "code",
   "execution_count": 30,
   "id": "922c651c",
   "metadata": {},
   "outputs": [],
   "source": [
    "import re\n",
    "def data_clean(a):\n",
    "    b = a.lower()\n",
    "    for char in string.punctuation:\n",
    "        b = b.replace(char,' ')\n",
    "    stop_words = stopwords.words(\"english\")\n",
    "    c = b.split()\n",
    "    c = [word for word in c if word not in stop_words]\n",
    "    c = pd.Series(c)\n",
    "    return c.iloc[0]"
   ]
  },
  {
   "cell_type": "code",
   "execution_count": 31,
   "id": "5db1d5d8",
   "metadata": {
    "scrolled": true
   },
   "outputs": [
    {
     "name": "stdout",
     "output_type": "stream",
     "text": [
      "PRODUCT_ID\n",
      "3     PRIKNIK Horn Red Electric Air Horn Compressor ...\n",
      "4     ALISHAH Women's Cotton Ankle Length Leggings C...\n",
      "6     HINS Metal Bucket Shape Plant Pot for Indoor &...\n",
      "8     Delavala Self Adhesive Kitchen Backsplash Wall...\n",
      "10    Hexwell Essential oil for Home Fragrance Oil A...\n",
      "Name: data, dtype: object\n"
     ]
    }
   ],
   "source": [
    "print(new_df['data'].head())\n",
    "new_df['data'] = new_df['data'].apply(lambda x:data_clean(x))"
   ]
  },
  {
   "cell_type": "code",
   "execution_count": 32,
   "id": "e9b7ef7f",
   "metadata": {},
   "outputs": [
    {
     "name": "stdout",
     "output_type": "stream",
     "text": [
      "                                                        TITLE  \\\n",
      "PRODUCT_ID                                                      \n",
      "3           PRIKNIK Horn Red Electric Air Horn Compressor ...   \n",
      "4           ALISHAH Women's Cotton Ankle Length Leggings C...   \n",
      "6           HINS Metal Bucket Shape Plant Pot for Indoor &...   \n",
      "8           Delavala Self Adhesive Kitchen Backsplash Wall...   \n",
      "10          Hexwell Essential oil for Home Fragrance Oil A...   \n",
      "\n",
      "                                                BULLET_POINTS  \\\n",
      "PRODUCT_ID                                                      \n",
      "3           [Loud Dual Tone Trumpet Horn, Compatible With ...   \n",
      "4           [Made By 95%cotton and 5% Lycra which gives yo...   \n",
      "6           [Simple and elegant, great for displaying indo...   \n",
      "8           [HIGH QUALITY PVC MATERIAL: The kitchen alumin...   \n",
      "10          [100% Pure And Natural Essential Oil Or Fragra...   \n",
      "\n",
      "                                                  DESCRIPTION  PRODUCT_LENGTH  \\\n",
      "PRODUCT_ID                                                                      \n",
      "3           Specifications: Color: Red, Material: Aluminiu...      748.031495   \n",
      "4           AISHAH Women's Lycra Cotton Ankel Leggings. Br...      787.401574   \n",
      "6           HINS Brings you the most Elegant Looking Pot w...      950.000000   \n",
      "8           <p><strong>Aluminum Foil Stickers-good kitchen...      984.251967   \n",
      "10          Transform your home, workplace or hotel room i...      393.700787   \n",
      "\n",
      "                data  \n",
      "PRODUCT_ID            \n",
      "3            priknik  \n",
      "4            alishah  \n",
      "6               hins  \n",
      "8           delavala  \n",
      "10           hexwell  \n"
     ]
    }
   ],
   "source": [
    "print(new_df.head())"
   ]
  },
  {
   "cell_type": "code",
   "execution_count": 33,
   "id": "065e9e1c",
   "metadata": {},
   "outputs": [
    {
     "name": "stdout",
     "output_type": "stream",
     "text": [
      "                                                        TITLE  \\\n",
      "PRODUCT_ID                                                      \n",
      "1729783     DCGARING Microfiber Throw Blanket Warm Fuzzy P...   \n",
      "1871949     I-Match Auto Parts Front License Plate Bracket...   \n",
      "1107571     PinMart Gold Plated Excellence in Service 1 Ye...   \n",
      "2782548     Evershine Shoppee 10m Waxed Nylon Thread Cotto...   \n",
      "2736605     SHASAK Sanganer Hand Block Printed Short Kurta...   \n",
      "\n",
      "                                                BULLET_POINTS  \\\n",
      "PRODUCT_ID                                                      \n",
      "1729783     [QUALITY GUARANTEED: Luxury cozy plush polyest...   \n",
      "1871949     [Front License Plate Bracket Made Of Plastic,D...   \n",
      "1107571     [Available as a single item or bulk packed. Se...   \n",
      "2782548     [Kindly Refer The Product Description Before B...   \n",
      "2736605     [Confused between wearing a T-shirt and a shir...   \n",
      "\n",
      "                                                  DESCRIPTION  \\\n",
      "PRODUCT_ID                                                      \n",
      "1729783     <b>DCGARING Throw Blanket</b><br><br> <b>Size ...   \n",
      "1871949     Replacement for The Following Vehicles:2020 LE...   \n",
      "1107571     Our Excellence in Service Lapel Pins feature a...   \n",
      "2782548     Description: Material: Nylon Length: about 10m...   \n",
      "2736605     Men’s Pure Cotton Sanganeri Hand-Block Print S...   \n",
      "\n",
      "            PRODUCT_TYPE_ID                                               data  \n",
      "PRODUCT_ID                                                                      \n",
      "1729783                1622  DCGARING Microfiber Throw Blanket Warm Fuzzy P...  \n",
      "1871949                7540  I-Match Auto Parts Front License Plate Bracket...  \n",
      "1107571               12442  PinMart Gold Plated Excellence in Service 1 Ye...  \n",
      "2782548               11205  Evershine Shoppee 10m Waxed Nylon Thread Cotto...  \n",
      "2736605                2911  SHASAK Sanganer Hand Block Printed Short Kurta...  \n"
     ]
    }
   ],
   "source": [
    "print(test_df.head())\n",
    "test_df['data'] = test_df['data'].apply(lambda x:data_clean(x))\n"
   ]
  },
  {
   "cell_type": "code",
   "execution_count": 34,
   "id": "ed34b234",
   "metadata": {},
   "outputs": [
    {
     "data": {
      "text/html": [
       "<div>\n",
       "<style scoped>\n",
       "    .dataframe tbody tr th:only-of-type {\n",
       "        vertical-align: middle;\n",
       "    }\n",
       "\n",
       "    .dataframe tbody tr th {\n",
       "        vertical-align: top;\n",
       "    }\n",
       "\n",
       "    .dataframe thead th {\n",
       "        text-align: right;\n",
       "    }\n",
       "</style>\n",
       "<table border=\"1\" class=\"dataframe\">\n",
       "  <thead>\n",
       "    <tr style=\"text-align: right;\">\n",
       "      <th></th>\n",
       "      <th>TITLE</th>\n",
       "      <th>BULLET_POINTS</th>\n",
       "      <th>DESCRIPTION</th>\n",
       "      <th>PRODUCT_TYPE_ID</th>\n",
       "      <th>data</th>\n",
       "    </tr>\n",
       "    <tr>\n",
       "      <th>PRODUCT_ID</th>\n",
       "      <th></th>\n",
       "      <th></th>\n",
       "      <th></th>\n",
       "      <th></th>\n",
       "      <th></th>\n",
       "    </tr>\n",
       "  </thead>\n",
       "  <tbody>\n",
       "    <tr>\n",
       "      <th>1729783</th>\n",
       "      <td>DCGARING Microfiber Throw Blanket Warm Fuzzy P...</td>\n",
       "      <td>[QUALITY GUARANTEED: Luxury cozy plush polyest...</td>\n",
       "      <td>&lt;b&gt;DCGARING Throw Blanket&lt;/b&gt;&lt;br&gt;&lt;br&gt; &lt;b&gt;Size ...</td>\n",
       "      <td>1622</td>\n",
       "      <td>dcgaring</td>\n",
       "    </tr>\n",
       "    <tr>\n",
       "      <th>1871949</th>\n",
       "      <td>I-Match Auto Parts Front License Plate Bracket...</td>\n",
       "      <td>[Front License Plate Bracket Made Of Plastic,D...</td>\n",
       "      <td>Replacement for The Following Vehicles:2020 LE...</td>\n",
       "      <td>7540</td>\n",
       "      <td>match</td>\n",
       "    </tr>\n",
       "    <tr>\n",
       "      <th>1107571</th>\n",
       "      <td>PinMart Gold Plated Excellence in Service 1 Ye...</td>\n",
       "      <td>[Available as a single item or bulk packed. Se...</td>\n",
       "      <td>Our Excellence in Service Lapel Pins feature a...</td>\n",
       "      <td>12442</td>\n",
       "      <td>pinmart</td>\n",
       "    </tr>\n",
       "    <tr>\n",
       "      <th>2782548</th>\n",
       "      <td>Evershine Shoppee 10m Waxed Nylon Thread Cotto...</td>\n",
       "      <td>[Kindly Refer The Product Description Before B...</td>\n",
       "      <td>Description: Material: Nylon Length: about 10m...</td>\n",
       "      <td>11205</td>\n",
       "      <td>evershine</td>\n",
       "    </tr>\n",
       "    <tr>\n",
       "      <th>2736605</th>\n",
       "      <td>SHASAK Sanganer Hand Block Printed Short Kurta...</td>\n",
       "      <td>[Confused between wearing a T-shirt and a shir...</td>\n",
       "      <td>Men’s Pure Cotton Sanganeri Hand-Block Print S...</td>\n",
       "      <td>2911</td>\n",
       "      <td>shasak</td>\n",
       "    </tr>\n",
       "  </tbody>\n",
       "</table>\n",
       "</div>"
      ],
      "text/plain": [
       "                                                        TITLE  \\\n",
       "PRODUCT_ID                                                      \n",
       "1729783     DCGARING Microfiber Throw Blanket Warm Fuzzy P...   \n",
       "1871949     I-Match Auto Parts Front License Plate Bracket...   \n",
       "1107571     PinMart Gold Plated Excellence in Service 1 Ye...   \n",
       "2782548     Evershine Shoppee 10m Waxed Nylon Thread Cotto...   \n",
       "2736605     SHASAK Sanganer Hand Block Printed Short Kurta...   \n",
       "\n",
       "                                                BULLET_POINTS  \\\n",
       "PRODUCT_ID                                                      \n",
       "1729783     [QUALITY GUARANTEED: Luxury cozy plush polyest...   \n",
       "1871949     [Front License Plate Bracket Made Of Plastic,D...   \n",
       "1107571     [Available as a single item or bulk packed. Se...   \n",
       "2782548     [Kindly Refer The Product Description Before B...   \n",
       "2736605     [Confused between wearing a T-shirt and a shir...   \n",
       "\n",
       "                                                  DESCRIPTION  \\\n",
       "PRODUCT_ID                                                      \n",
       "1729783     <b>DCGARING Throw Blanket</b><br><br> <b>Size ...   \n",
       "1871949     Replacement for The Following Vehicles:2020 LE...   \n",
       "1107571     Our Excellence in Service Lapel Pins feature a...   \n",
       "2782548     Description: Material: Nylon Length: about 10m...   \n",
       "2736605     Men’s Pure Cotton Sanganeri Hand-Block Print S...   \n",
       "\n",
       "            PRODUCT_TYPE_ID       data  \n",
       "PRODUCT_ID                              \n",
       "1729783                1622   dcgaring  \n",
       "1871949                7540      match  \n",
       "1107571               12442    pinmart  \n",
       "2782548               11205  evershine  \n",
       "2736605                2911     shasak  "
      ]
     },
     "execution_count": 34,
     "metadata": {},
     "output_type": "execute_result"
    }
   ],
   "source": [
    "test_df.head()"
   ]
  },
  {
   "cell_type": "code",
   "execution_count": 35,
   "id": "4e9ba7ef",
   "metadata": {},
   "outputs": [],
   "source": [
    "x_train,x_test,y_train,y_test=train_test_split(new_df,y,random_state=0)\n"
   ]
  },
  {
   "cell_type": "code",
   "execution_count": 37,
   "id": "566fdb9d",
   "metadata": {},
   "outputs": [
    {
     "name": "stdout",
     "output_type": "stream",
     "text": [
      "Train Done\n",
      "Test Done\n"
     ]
    }
   ],
   "source": [
    "countvt = CountVectorizer().fit(x_train['data'])\n",
    "x_train_bow = countvt.transform(x_train['data'])\n",
    "print(\"Train Done\")\n",
    "x_test_bow = countvt.transform(x_test['data'])\n",
    "print(\"Test Done\")"
   ]
  },
  {
   "cell_type": "code",
   "execution_count": 38,
   "id": "05509963",
   "metadata": {},
   "outputs": [
    {
     "name": "stdout",
     "output_type": "stream",
     "text": [
      "(75000, 5)\n",
      "(75000, 26317)\n"
     ]
    }
   ],
   "source": [
    "print(x_train.shape)\n",
    "print(x_train_bow.shape)"
   ]
  },
  {
   "cell_type": "code",
   "execution_count": 39,
   "id": "820c00ca",
   "metadata": {},
   "outputs": [
    {
     "name": "stdout",
     "output_type": "stream",
     "text": [
      "tf - idf shape :  (75000, 26317)\n"
     ]
    }
   ],
   "source": [
    "tfidf = TfidfTransformer().fit(x_train_bow)\n",
    "x_train_tfidf = tfidf.transform(x_train_bow)\n",
    "x_test_tfidf = tfidf.transform(x_test_bow)\n",
    "print(\"tf - idf shape : \",x_train_tfidf.shape)"
   ]
  },
  {
   "cell_type": "code",
   "execution_count": 40,
   "id": "e1f963af",
   "metadata": {},
   "outputs": [
    {
     "ename": "NameError",
     "evalue": "name 'train' is not defined",
     "output_type": "error",
     "traceback": [
      "\u001b[0;31m---------------------------------------------------------------------------\u001b[0m",
      "\u001b[0;31mNameError\u001b[0m                                 Traceback (most recent call last)",
      "\u001b[0;32m/var/folders/zy/0hsjzmxx5n38f7bh72b46yl80000gn/T/ipykernel_10230/2186714060.py\u001b[0m in \u001b[0;36m<module>\u001b[0;34m\u001b[0m\n\u001b[0;32m----> 1\u001b[0;31m \u001b[0mtrain\u001b[0m\u001b[0;34m[\u001b[0m\u001b[0;34m\"INFO\"\u001b[0m\u001b[0;34m]\u001b[0m\u001b[0;34m=\u001b[0m\u001b[0mtrain\u001b[0m\u001b[0;34m.\u001b[0m\u001b[0mapply\u001b[0m\u001b[0;34m(\u001b[0m\u001b[0;32mlambda\u001b[0m \u001b[0mrow\u001b[0m\u001b[0;34m:\u001b[0m \u001b[0mstr\u001b[0m\u001b[0;34m(\u001b[0m\u001b[0mrow\u001b[0m\u001b[0;34m.\u001b[0m\u001b[0mTITLE\u001b[0m\u001b[0;34m)\u001b[0m\u001b[0;34m+\u001b[0m\u001b[0;34m\" \"\u001b[0m\u001b[0;34m+\u001b[0m\u001b[0mstr\u001b[0m\u001b[0;34m(\u001b[0m\u001b[0mrow\u001b[0m\u001b[0;34m.\u001b[0m\u001b[0mDESCRIPTION\u001b[0m\u001b[0;34m)\u001b[0m\u001b[0;34m+\u001b[0m\u001b[0;34m\" \"\u001b[0m\u001b[0;34m+\u001b[0m\u001b[0mstr\u001b[0m\u001b[0;34m(\u001b[0m\u001b[0mrow\u001b[0m\u001b[0;34m.\u001b[0m\u001b[0mBULLET_POINTS\u001b[0m\u001b[0;34m)\u001b[0m\u001b[0;34m,\u001b[0m \u001b[0maxis\u001b[0m \u001b[0;34m=\u001b[0m\u001b[0;36m1\u001b[0m\u001b[0;34m)\u001b[0m\u001b[0;34m\u001b[0m\u001b[0;34m\u001b[0m\u001b[0m\n\u001b[0m\u001b[1;32m      2\u001b[0m \u001b[0mtrain\u001b[0m\u001b[0;34m=\u001b[0m\u001b[0mtrain\u001b[0m\u001b[0;34m[\u001b[0m\u001b[0;34m[\u001b[0m\u001b[0;34m\"INFO\"\u001b[0m\u001b[0;34m,\u001b[0m\u001b[0;34m\"PRODUCT_LENGTH\"\u001b[0m\u001b[0;34m]\u001b[0m\u001b[0;34m]\u001b[0m\u001b[0;34m\u001b[0m\u001b[0;34m\u001b[0m\u001b[0m\n",
      "\u001b[0;31mNameError\u001b[0m: name 'train' is not defined"
     ]
    }
   ],
   "source": []
  },
  {
   "cell_type": "code",
   "execution_count": null,
   "id": "b7428204",
   "metadata": {},
   "outputs": [],
   "source": []
  }
 ],
 "metadata": {
  "kernelspec": {
   "display_name": "Python 3 (ipykernel)",
   "language": "python",
   "name": "python3"
  },
  "language_info": {
   "codemirror_mode": {
    "name": "ipython",
    "version": 3
   },
   "file_extension": ".py",
   "mimetype": "text/x-python",
   "name": "python",
   "nbconvert_exporter": "python",
   "pygments_lexer": "ipython3",
   "version": "3.9.13"
  }
 },
 "nbformat": 4,
 "nbformat_minor": 5
}
