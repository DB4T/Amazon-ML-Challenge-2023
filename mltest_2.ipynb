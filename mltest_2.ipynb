{
 "cells": [
  {
   "cell_type": "code",
   "execution_count": 3,
   "id": "b2eb9385",
   "metadata": {},
   "outputs": [],
   "source": [
    "import pandas as pd\n",
    "import csv\n",
    "import numpy as np"
   ]
  },
  {
   "cell_type": "code",
   "execution_count": 4,
   "id": "2402ab91",
   "metadata": {},
   "outputs": [],
   "source": [
    "train = pd.read_csv(\"train.csv\")"
   ]
  },
  {
   "cell_type": "code",
   "execution_count": 5,
   "id": "0d9394e0",
   "metadata": {},
   "outputs": [
    {
     "data": {
      "text/html": [
       "<div>\n",
       "<style scoped>\n",
       "    .dataframe tbody tr th:only-of-type {\n",
       "        vertical-align: middle;\n",
       "    }\n",
       "\n",
       "    .dataframe tbody tr th {\n",
       "        vertical-align: top;\n",
       "    }\n",
       "\n",
       "    .dataframe thead th {\n",
       "        text-align: right;\n",
       "    }\n",
       "</style>\n",
       "<table border=\"1\" class=\"dataframe\">\n",
       "  <thead>\n",
       "    <tr style=\"text-align: right;\">\n",
       "      <th></th>\n",
       "      <th>PRODUCT_ID</th>\n",
       "      <th>TITLE</th>\n",
       "      <th>BULLET_POINTS</th>\n",
       "      <th>DESCRIPTION</th>\n",
       "      <th>PRODUCT_TYPE_ID</th>\n",
       "      <th>PRODUCT_LENGTH</th>\n",
       "    </tr>\n",
       "  </thead>\n",
       "  <tbody>\n",
       "    <tr>\n",
       "      <th>0</th>\n",
       "      <td>1925202</td>\n",
       "      <td>ArtzFolio Tulip Flowers Blackout Curtain for D...</td>\n",
       "      <td>[LUXURIOUS &amp; APPEALING: Beautiful custom-made ...</td>\n",
       "      <td>NaN</td>\n",
       "      <td>1650</td>\n",
       "      <td>2125.980000</td>\n",
       "    </tr>\n",
       "    <tr>\n",
       "      <th>1</th>\n",
       "      <td>2673191</td>\n",
       "      <td>Marks &amp; Spencer Girls' Pyjama Sets T86_2561C_N...</td>\n",
       "      <td>[Harry Potter Hedwig Pyjamas (6-16 Yrs),100% c...</td>\n",
       "      <td>NaN</td>\n",
       "      <td>2755</td>\n",
       "      <td>393.700000</td>\n",
       "    </tr>\n",
       "    <tr>\n",
       "      <th>2</th>\n",
       "      <td>2765088</td>\n",
       "      <td>PRIKNIK Horn Red Electric Air Horn Compressor ...</td>\n",
       "      <td>[Loud Dual Tone Trumpet Horn, Compatible With ...</td>\n",
       "      <td>Specifications: Color: Red, Material: Aluminiu...</td>\n",
       "      <td>7537</td>\n",
       "      <td>748.031495</td>\n",
       "    </tr>\n",
       "    <tr>\n",
       "      <th>3</th>\n",
       "      <td>1594019</td>\n",
       "      <td>ALISHAH Women's Cotton Ankle Length Leggings C...</td>\n",
       "      <td>[Made By 95%cotton and 5% Lycra which gives yo...</td>\n",
       "      <td>AISHAH Women's Lycra Cotton Ankel Leggings. Br...</td>\n",
       "      <td>2996</td>\n",
       "      <td>787.401574</td>\n",
       "    </tr>\n",
       "    <tr>\n",
       "      <th>4</th>\n",
       "      <td>283658</td>\n",
       "      <td>The United Empire Loyalists: A Chronicle of th...</td>\n",
       "      <td>NaN</td>\n",
       "      <td>NaN</td>\n",
       "      <td>6112</td>\n",
       "      <td>598.424000</td>\n",
       "    </tr>\n",
       "  </tbody>\n",
       "</table>\n",
       "</div>"
      ],
      "text/plain": [
       "   PRODUCT_ID                                              TITLE  \\\n",
       "0     1925202  ArtzFolio Tulip Flowers Blackout Curtain for D...   \n",
       "1     2673191  Marks & Spencer Girls' Pyjama Sets T86_2561C_N...   \n",
       "2     2765088  PRIKNIK Horn Red Electric Air Horn Compressor ...   \n",
       "3     1594019  ALISHAH Women's Cotton Ankle Length Leggings C...   \n",
       "4      283658  The United Empire Loyalists: A Chronicle of th...   \n",
       "\n",
       "                                       BULLET_POINTS  \\\n",
       "0  [LUXURIOUS & APPEALING: Beautiful custom-made ...   \n",
       "1  [Harry Potter Hedwig Pyjamas (6-16 Yrs),100% c...   \n",
       "2  [Loud Dual Tone Trumpet Horn, Compatible With ...   \n",
       "3  [Made By 95%cotton and 5% Lycra which gives yo...   \n",
       "4                                                NaN   \n",
       "\n",
       "                                         DESCRIPTION  PRODUCT_TYPE_ID  \\\n",
       "0                                                NaN             1650   \n",
       "1                                                NaN             2755   \n",
       "2  Specifications: Color: Red, Material: Aluminiu...             7537   \n",
       "3  AISHAH Women's Lycra Cotton Ankel Leggings. Br...             2996   \n",
       "4                                                NaN             6112   \n",
       "\n",
       "   PRODUCT_LENGTH  \n",
       "0     2125.980000  \n",
       "1      393.700000  \n",
       "2      748.031495  \n",
       "3      787.401574  \n",
       "4      598.424000  "
      ]
     },
     "execution_count": 5,
     "metadata": {},
     "output_type": "execute_result"
    }
   ],
   "source": [
    "train.head()"
   ]
  },
  {
   "cell_type": "code",
   "execution_count": 6,
   "id": "55cc9350",
   "metadata": {},
   "outputs": [
    {
     "data": {
      "text/plain": [
       "1925202    1\n",
       "169598     1\n",
       "1517197    1\n",
       "241223     1\n",
       "2025223    1\n",
       "          ..\n",
       "122424     1\n",
       "1331222    1\n",
       "2445341    1\n",
       "726066     1\n",
       "1072666    1\n",
       "Name: PRODUCT_ID, Length: 2249698, dtype: int64"
      ]
     },
     "execution_count": 6,
     "metadata": {},
     "output_type": "execute_result"
    }
   ],
   "source": [
    "train[\"PRODUCT_ID\"].value_counts()"
   ]
  },
  {
   "cell_type": "code",
   "execution_count": 7,
   "id": "bf4c76d6",
   "metadata": {},
   "outputs": [
    {
     "data": {
      "text/plain": [
       "Unknown Title                                                                                                                                     109\n",
       "Casotec Back Cover for Mobile (Plastic_Multicolor)                                                                                                 95\n",
       "Greatest Hits                                                                                                                                      91\n",
       "Casotec Back Cover for Mobile (Silicone_Multicolor)                                                                                                88\n",
       "Best of                                                                                                                                            71\n",
       "                                                                                                                                                 ... \n",
       "Thinking Differently About Cosmopolitanism: Theory, Eccentricity, and the Globalized World (Interventions: Education, Philosophy, and Culture)      1\n",
       "REMEMBERING PETER SELLERS                                                                                                                           1\n",
       "kwmobile TPU Case Compatible with Samsung Galaxy M52 5G - Case Soft Slim Smooth Flexible Protective Phone Cover - White Matte                       1\n",
       "Spectra Premium SP8021M Fuel Pump Assembly                                                                                                          1\n",
       "Skyjacker C7360SP Component Box For PN[C7360PK] 4 in. Lift Incl. Front Spacers Hardware Component Box For PN[C7360PK]                               1\n",
       "Name: TITLE, Length: 2210762, dtype: int64"
      ]
     },
     "execution_count": 7,
     "metadata": {},
     "output_type": "execute_result"
    }
   ],
   "source": [
    "train[\"TITLE\"].value_counts()"
   ]
  },
  {
   "cell_type": "code",
   "execution_count": 8,
   "id": "d5ed3a2a",
   "metadata": {},
   "outputs": [
    {
     "data": {
      "text/plain": [
       "[Good quality and Suitable to use.,This Product comes in a proper Packaging.,In case of any query or issue. Feel free to reach out to us.,Contains: Pack of 1.,Delivery within 3-5 weeks.]                                                                                                                                                                                                                                                                                                                                                                                                                                                                                                                                                                                                                                                                                                                                                                                                                                                                                                                                                                                                                                                                                                             10124\n",
       "[Generic are \"Made in India' products using sublimation printing process, with print covering all 3 sides of cover.,Due to the nature of different monitors/tablets/smart phones, color variation may occur and the product may look slightly different in person being a handmade item.,Generic Cases are waterproof, fade resistant, non-peeling, printed with vibrant eco-friendly inks, extremely slim fitting with access to all functions.,Generic offer lifetime print/design guarantee.,Generic provide with maximum protection to your phone and maximum comfort for use.]                                                                                                                                                                                                                                                                                                                                                                                                                                                                                                                                                                                                                                                                                                                     5081\n",
       "[New & Imported Item,Delivers within 3 to 5 weeks,Item contains Pack of 1,In case of any query please contact seller.,Please check the details of an item carefully before placing an order, as order once placed cannot be cancelled.]                                                                                                                                                                                                                                                                                                                                                                                                                                                                                                                                                                                                                                                                                                                                                                                                                                                                                                                                                                                                                                                                 3285\n",
       "[New in box,Good quality and Suitable to use.,High Quality Durable and Eco-friendly Material.,100% Brand New,Package contains Pack of 1 Item. In case of any query please contact seller.]                                                                                                                                                                                                                                                                                                                                                                                                                                                                                                                                                                                                                                                                                                                                                                                                                                                                                                                                                                                                                                                                                                              2505\n",
       "[Designed with quality and comfortable in mind,Perfect fit and stylish for any occasion,Durable for all seasons]                                                                                                                                                                                                                                                                                                                                                                                                                                                                                                                                                                                                                                                                                                                                                                                                                                                                                                                                                                                                                                                                                                                                                                                        2124\n",
       "                                                                                                                                                                                                                                                                                                                                                                                                                                                                                                                                                                                                                                                                                                                                                                                                                                                                                                                                                                                                                                                                                                                                                                                                                                                                                                       ...  \n",
       "[👉Basic tunic top,Material is soft, comfortable, flowy, swing,lightweight, soft and stretchy, the print is vibrant. Its a lovely soft fabric, very wearable, that feels great against the skin,👉US standard size:XS=(US 2)S=(US 4-6),M=(US 8-10),L=(US 12-14),XL=(US 16-18),2XL=(US 20-22),23XL=(US 24)Many solid color and floral print available for your choose.,👉Features:V-Neck, long sleeve. Lightweigth, stretchy. flowy and nice coverage in hem ornament the belly and bottom area to get you in better shape.You can pair with leggings and fun accessories (scarf belt jewelry jacket etc) and wear to work or wherever.,👉This long sleeves allow for a cozy tunic top that can be worn in winter spring and fall. Although the fabric is not very thick,If you are worried about being cold, add a cardigan and leggings. If you are concerned about being warm, wear a pair of flats and push the sleeves up. the dress is incredibly functional so you can wear it for a wide variety of events. Dress it up with dangly earrings and legging, or wear the tops casually with a simple pair of jeans.,👉 Quality with hassle free return or exchange, you are backed by 30 day replacement and money back guarantee,either you love the product or you are entitled to a 100% refund.]        1\n",
       "[Double Contact bayonet,Shape : S8,24 Watts,12 V,1 Single Bulb]                                                                                                                                                                                                                                                                                                                                                                                                                                                                                                                                                                                                                                                                                                                                                                                                                                                                                                                                                                                                                                                                                                                                                                                                                                            1\n",
       "[Brilliant Home Designs Aluminium & Copper oxodised temple with fine quality designs embossed on metal.,Size- Width-18 Inches/ Height-33 Inches/ Breadth -9 Inches,The mandir is made of premium quality plywood which is season proof and fully Termite proof,Chemical process has been done to provide a premium look thus resisting blackening of metal due to weather effects.,German silver nails used in the mandir are tarnish proof and rust proof providing it with a long life.]                                                                                                                                                                                                                                                                                                                                                                                                                                                                                                                                                                                                                                                                                                                                                                                                                 1\n",
       "[Extra pockets sized for tactical use,Self-adjusting tunnel waistband,Bartacking at major seams and stress points,Hip-mounted D-ring and Prym snaps,Double-reinforced seat and knees (Internal knee pad ready)]                                                                                                                                                                                                                                                                                                                                                                                                                                                                                                                                                                                                                                                                                                                                                                                                                                                                                                                                                                                                                                                                                            1\n",
       "[Component Box For PN[C7360PK],4 in. Lift,Incl. Front Spacers,Hardware]                                                                                                                                                                                                                                                                                                                                                                                                                                                                                                                                                                                                                                                                                                                                                                                                                                                                                                                                                                                                                                                                                                                                                                                                                                    1\n",
       "Name: BULLET_POINTS, Length: 965330, dtype: int64"
      ]
     },
     "execution_count": 8,
     "metadata": {},
     "output_type": "execute_result"
    }
   ],
   "source": [
    "train[\"BULLET_POINTS\"].value_counts()"
   ]
  },
  {
   "cell_type": "code",
   "execution_count": 9,
   "id": "800fefd2",
   "metadata": {},
   "outputs": [
    {
     "data": {
      "text/plain": [
       "This Case is Made up of Hard Polycarbonate Plastic and printed on all 3 sides of back cover. This cover protects your mobile from scratches and bumps. This printed case gives premier look to your mobile.                                                                                                                                                                                                                                                                                                                                                                                                                                                                                                                                                                                                                                                                                                                                                                                                                                                                                                                                                                                                                                                                                                                                                                                                                                                                                                                                                             8339\n",
       "Well paired with any clothes and can be worn for any occasion. Best choice for versatile use                                                                                                                                                                                                                                                                                                                                                                                                                                                                                                                                                                                                                                                                                                                                                                                                                                                                                                                                                                                                                                                                                                                                                                                                                                                                                                                                                                                                                                                                            2103\n",
       "Ships from USA. Will take 25-35 days                                                                                                                                                                                                                                                                                                                                                                                                                                                                                                                                                                                                                                                                                                                                                                                                                                                                                                                                                                                                                                                                                                                                                                                                                                                                                                                                                                                                                                                                                                                                    1515\n",
       "Casotec Print Design Hard Back Case provides protection by preventing your Mobile Phone from dust and unnecessary scratches. It is made to fit perfect and gives the device its maximum protection. The Hard Case is reinforced from the Proper edges, sides and back to prolong the life of your Mobile Phone. Besides its protection, it also has openings precisely made for the side buttons, charger port / dock connector, headset jack and speaker which allow you full access to all the functions on your device. Easy to install and last for a long time and the pattern on the surface looks great. It is the perfect case for protecting your Phone from scratches, shock, and the elements. Kindly Note: There may be slight change in color of design printed on case as seen on website, as there can be different monitor settings and also difference in ink transfer rate of printer to case.                                                                                                                                                                                                                                                                                                                                                                                                                                                                                                                                                                                                                                                        1239\n",
       "<p>OYE STUFF back covers are the best attractive accessory to make your mobile unique from other models.</p><li>The Premium case is made out of a light SILICON.</li><li> It is flexible to snap on to your phone with ease and strong enough to protect it from bumps, drops and scratches.</li><li> The raised lip on the sides of the case also protects your phone's screen.</li><li>The Precision cutouts on this case leaves ports, speakers and microphones completely open.</li><li> This case is 100% compatible with your regular charger and headphones.</li>                                                                                                                                                                                                                                                                                                                                                                                                                                                                                                                                                                                                                                                                                                                                                                                                                                                                                                                                                                                                1139\n",
       "                                                                                                                                                                                                                                                                                                                                                                                                                                                                                                                                                                                                                                                                                                                                                                                                                                                                                                                                                                                                                                                                                                                                                                                                                                                                                                                                                                                                                                                                                                                                                                        ... \n",
       "GlobalNiche Mandala Pillow Case Blue Totem Print Throw Waist Cushion Cover Pouf Sham                                                                                                                                                                                                                                                                                                                                                                                                                                                                                                                                                                                                                                                                                                                                                                                                                                                                                                                                                                                                                                                                                                                                                                                                                                                                                                                                                                                                                                                                                       1\n",
       "Officially licensed by the NFL, the C and I Collectables NFL 15W x 12H in. Detroit Lions All -Time Great Photo Plaque makes a welcome addition to your game room or office. It boasts a full-color photo of the Lions All-Time Greats and two genuine trading cards. It is professionally mounted onto a cherry wood frame. About C & I Collectibles Sports aficionados scored a touchdown when C & I Collectibles was founded in 1991. Their line of trading cards and decorative plaques celebrates players and teams from all your favorite leagues, including the NFL, MLB, NBA, NHL, and NCAA leagues. A variety of options let you choose the piece that's right for you, whether it's a mounted action shot of your favorite rookie or complete set of cards from your favorite team, C & I has something for you. A selection of sizes and styles let you find a display that appropriately celebrates your draft picks and hall-of-famers. Dimensions: 15W x .75D x 12H in.. Features 8W x 10L in. photo of Detroit Lions players. Includes engraved nameplate. Cards can be easily be swapped out. Rich brown finish. Constructed of cherry wood with acrylic lens covers.                                                                                                                                                                                                                                                                                                                                                                                       1\n",
       "This is dishwasher safe and leakproof so that kids can enjoy their meal easily. This stylish lunch box can be used while going for picnic, school, office or other occasions. You can gift it to your kids or little ones on their birthday.                                                                                                                                                                                                                                                                                                                                                                                                                                                                                                                                                                                                                                                                                                                                                                                                                                                                                                                                                                                                                                                                                                                                                                                                                                                                                                                               1\n",
       "<p><b>Deconovo Blackout Curtains Wave Foil Print Pattern Curtain</b></p><p>Deconovo Wave Foil Print Pattern Blackout Curtain brings a comfortable atmosphere in your home. Our blockout curtains are ideal for those who wish to have undisturbed moments indoors, for a good sleep, late work and other purposes. These curtain panels are fully crafted with 100 percent high quality polyester.</p> <ul> <li>Deconovo blackout curtains can considerably darken the room at any needed time of the day.</li> <li>Great for those willing to spend less on air condition and heating of the room, as these curtains are thermal insulated to help in saving on energy cost.</li> <li>Able to provide superior privacy, the room darkening curtains are not seethrough and will keep any indoor activity private.</li> <li>Good for sensitive people, our curtain panels do not attract any kind of dust or mites.</li> <li>Available in various and beautiful colors: black, light grey, khaki, royal blue, light pink, white, light beige, navy blue, pink……</li> <li>We offer the curtain panels in various sizes: 52 x 63, 52 x 84, 52 x 96, 52 x 45, 52 x 54, 52 x 72, 52 x 108, 42 x 63, 42 x 84, 42 x 45, 42 x 54, 42 x 72.</li></ul> <p><b>Care Instructions</b></p> <p>Hand wash under 86 F, not bleached, iron at low temperature.</p> <p><b>PS:</b></br>Our product pictures are real and shot by professionals. However, due to differences in computer monitors display, there can be color variations between the actual product and your screen.</p>       1\n",
       "Skyjacker C7360SP Component Box For PN[C7360PK]; Lift Kit-Suspension Component                                                                                                                                                                                                                                                                                                                                                                                                                                                                                                                                                                                                                                                                                                                                                                                                                                                                                                                                                                                                                                                                                                                                                                                                                                                                                                                                                                                                                                                                                             1\n",
       "Name: DESCRIPTION, Length: 745275, dtype: int64"
      ]
     },
     "execution_count": 9,
     "metadata": {},
     "output_type": "execute_result"
    }
   ],
   "source": [
    "train[\"DESCRIPTION\"].value_counts()"
   ]
  },
  {
   "cell_type": "code",
   "execution_count": 10,
   "id": "bc74ad91",
   "metadata": {},
   "outputs": [
    {
     "data": {
      "text/plain": [
       "1        121199\n",
       "12064     57554\n",
       "0         50505\n",
       "123       31527\n",
       "6104      29690\n",
       "          ...  \n",
       "7239          1\n",
       "12536         1\n",
       "4114          1\n",
       "3229          1\n",
       "4505          1\n",
       "Name: PRODUCT_TYPE_ID, Length: 12907, dtype: int64"
      ]
     },
     "execution_count": 10,
     "metadata": {},
     "output_type": "execute_result"
    }
   ],
   "source": [
    "train[\"PRODUCT_TYPE_ID\"].value_counts()"
   ]
  },
  {
   "cell_type": "code",
   "execution_count": 11,
   "id": "a6967c27",
   "metadata": {},
   "outputs": [
    {
     "data": {
      "text/plain": [
       "600.000000     132095\n",
       "590.551180      80428\n",
       "500.000000      62388\n",
       "393.700787      58178\n",
       "850.000000      45034\n",
       "                ...  \n",
       "81.100000           1\n",
       "6299.212598         1\n",
       "2831.250000         1\n",
       "321.652900          1\n",
       "271.250000          1\n",
       "Name: PRODUCT_LENGTH, Length: 16655, dtype: int64"
      ]
     },
     "execution_count": 11,
     "metadata": {},
     "output_type": "execute_result"
    }
   ],
   "source": [
    "train[\"PRODUCT_LENGTH\"].value_counts()"
   ]
  },
  {
   "cell_type": "code",
   "execution_count": null,
   "id": "200c6d82",
   "metadata": {},
   "outputs": [],
   "source": []
  }
 ],
 "metadata": {
  "kernelspec": {
   "display_name": "Python 3 (ipykernel)",
   "language": "python",
   "name": "python3"
  },
  "language_info": {
   "codemirror_mode": {
    "name": "ipython",
    "version": 3
   },
   "file_extension": ".py",
   "mimetype": "text/x-python",
   "name": "python",
   "nbconvert_exporter": "python",
   "pygments_lexer": "ipython3",
   "version": "3.9.13"
  }
 },
 "nbformat": 4,
 "nbformat_minor": 5
}
