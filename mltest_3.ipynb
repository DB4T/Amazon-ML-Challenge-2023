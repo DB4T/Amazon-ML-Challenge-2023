{
 "cells": [
  {
   "cell_type": "code",
   "execution_count": null,
   "id": "f98d21a0",
   "metadata": {},
   "outputs": [],
   "source": []
  },
  {
   "cell_type": "code",
   "execution_count": null,
   "id": "6e552d6a",
   "metadata": {},
   "outputs": [],
   "source": [
    "import pandas as pd\n",
    "import spacy\n",
    "import string\n",
    "import spacy.cli"
   ]
  },
  {
   "cell_type": "code",
   "execution_count": null,
   "id": "2d5bf863",
   "metadata": {},
   "outputs": [],
   "source": []
  },
  {
   "cell_type": "code",
   "execution_count": null,
   "id": "43fbe859",
   "metadata": {},
   "outputs": [],
   "source": [
    "import numpy as np\n",
    "import re\n",
    "import nltk\n",
    "from nltk.corpus import stopwords\n",
    "sw_nltk = stopwords.words('english')"
   ]
  },
  {
   "cell_type": "code",
   "execution_count": null,
   "id": "987d9f1e",
   "metadata": {},
   "outputs": [],
   "source": [
    "data = pd.read_csv(\"train.csv\")"
   ]
  },
  {
   "cell_type": "code",
   "execution_count": null,
   "id": "c2772444",
   "metadata": {},
   "outputs": [],
   "source": [
    "data = data.head(1000000)"
   ]
  },
  {
   "cell_type": "code",
   "execution_count": null,
   "id": "8c733d80",
   "metadata": {},
   "outputs": [],
   "source": [
    "data.dropna(how = 'all',subset = ['TITLE','BULLET_POINTS','DESCRIPTION','PRODUCT_TYPE_ID'],inplace = True)\n",
    "data.dropna(how = 'all',subset = ['TITLE','BULLET_POINTS','DESCRIPTION','PRODUCT_TYPE_ID'],inplace = True)\n",
    "data.replace(np.nan,'',inplace = True)"
   ]
  },
  {
   "cell_type": "code",
   "execution_count": null,
   "id": "34738f54",
   "metadata": {},
   "outputs": [],
   "source": [
    "def remove_html_tags(text):\n",
    "    \"\"\"Remove html tags from a string\"\"\"\n",
    "    clean = re.compile('<.*?>')\n",
    "    return re.sub(clean, '', text)"
   ]
  },
  {
   "cell_type": "code",
   "execution_count": null,
   "id": "679bfbed",
   "metadata": {},
   "outputs": [],
   "source": [
    "def cleaner(text):\n",
    "    if text == '':\n",
    "        return ''\n",
    "    text = remove_html_tags(text)\n",
    "    text = text.lower()\n",
    "    text = text.translate(str.maketrans('', '', string.punctuation))\n",
    "    words = [word for word in text.split(' ') if word not in sw_nltk]\n",
    "    return \" \".join(words)"
   ]
  },
  {
   "cell_type": "code",
   "execution_count": null,
   "id": "a3009106",
   "metadata": {},
   "outputs": [],
   "source": [
    "data['TITLE'] = data['TITLE'].apply(lambda x : cleaner(x))\n",
    "data['DESCRIPTION'] = data['DESCRIPTION'].apply(lambda x : cleaner(x))\n",
    "data['BULLET_POINTS'] = data['BULLET_POINTS'].apply(lambda x : cleaner(x))\n",
    "# data['PRODUCT_TYPE_ID'] = data['PRODUCT_TYPE_ID'].apply(lambda x : cleaner(x))"
   ]
  },
  {
   "cell_type": "code",
   "execution_count": null,
   "id": "0e821f6b",
   "metadata": {},
   "outputs": [],
   "source": [
    "data.to_pickle('./partiallyCleanedData_K.pkl')"
   ]
  },
  {
   "cell_type": "code",
   "execution_count": null,
   "id": "3119baa0",
   "metadata": {},
   "outputs": [],
   "source": [
    "data = pd.read_pickle(\"./partiallyCleanedData_K.pkl\")"
   ]
  },
  {
   "cell_type": "code",
   "execution_count": null,
   "id": "62573210",
   "metadata": {},
   "outputs": [],
   "source": [
    "data.head()"
   ]
  },
  {
   "cell_type": "code",
   "execution_count": null,
   "id": "a4a099a4",
   "metadata": {},
   "outputs": [],
   "source": [
    "pip install yake"
   ]
  },
  {
   "cell_type": "code",
   "execution_count": null,
   "id": "20568d23",
   "metadata": {},
   "outputs": [],
   "source": [
    "import yake"
   ]
  },
  {
   "cell_type": "code",
   "execution_count": null,
   "id": "bc0fa255",
   "metadata": {},
   "outputs": [],
   "source": [
    "keyword_extractor=yake.KeywordExtractor(top = 10,n= 2)"
   ]
  },
  {
   "cell_type": "code",
   "execution_count": null,
   "id": "17b40e4b",
   "metadata": {},
   "outputs": [],
   "source": [
    "def extract_keywords(text):\n",
    "    keywords = keyword_extractor.extract_keywords(text)\n",
    "    return ' '.join([kw[0] for kw in keywords])"
   ]
  },
  {
   "cell_type": "code",
   "execution_count": null,
   "id": "a68a2ccb",
   "metadata": {},
   "outputs": [],
   "source": [
    "for index, row in data.iterrows():\n",
    "    if data.at[index,'BULLET_POINTS'] != '':\n",
    "        continue\n",
    "    if data.at[index,'BULLET_POINTS'] == '' and data.at[index,'DESCRIPTION'] !='' :\n",
    "        data.at[index,'BULLET_POINTS'] = extract_keywords(data.at[index,'DESCRIPTION'])\n",
    "    elif data.at[index,'BULLET_POINTS'] == '' and data.at[index,'DESCRIPTION'] =='' and data.at[index,'TITLE'] !='':\n",
    "        data.at[index,'BULLET_POINTS'] = extract_keywords(data.at[index,'TITLE'])"
   ]
  },
  {
   "cell_type": "code",
   "execution_count": null,
   "id": "b4f97f2a",
   "metadata": {},
   "outputs": [],
   "source": [
    "data.head()"
   ]
  },
  {
   "cell_type": "code",
   "execution_count": null,
   "id": "d2e45273",
   "metadata": {},
   "outputs": [],
   "source": [
    "finalDF = data[data.columns[2:]]"
   ]
  },
  {
   "cell_type": "code",
   "execution_count": null,
   "id": "be94e3cc",
   "metadata": {},
   "outputs": [],
   "source": [
    "finalDF.to_pickle('./finalData_K.pkl')"
   ]
  },
  {
   "cell_type": "code",
   "execution_count": null,
   "id": "a3a36197",
   "metadata": {},
   "outputs": [],
   "source": [
    "finalDF.to_csv('./finalData_K.csv')"
   ]
  },
  {
   "cell_type": "code",
   "execution_count": null,
   "id": "03e1bba5",
   "metadata": {},
   "outputs": [],
   "source": [
    "data.head()"
   ]
  },
  {
   "cell_type": "code",
   "execution_count": null,
   "id": "cc5a4ce2",
   "metadata": {},
   "outputs": [],
   "source": [
    "a=read.csv(\"./finalData_K.csv\")"
   ]
  },
  {
   "cell_type": "code",
   "execution_count": null,
   "id": "f85a23cd",
   "metadata": {},
   "outputs": [],
   "source": [
    "a=pd.read_csv(\"./finalData_K.csv\")"
   ]
  },
  {
   "cell_type": "code",
   "execution_count": null,
   "id": "59e86ae3",
   "metadata": {},
   "outputs": [],
   "source": [
    "a.head()"
   ]
  },
  {
   "cell_type": "code",
   "execution_count": null,
   "id": "02cffbb8",
   "metadata": {},
   "outputs": [],
   "source": []
  }
 ],
 "metadata": {
  "kernelspec": {
   "display_name": "Python 3 (ipykernel)",
   "language": "python",
   "name": "python3"
  },
  "language_info": {
   "codemirror_mode": {
    "name": "ipython",
    "version": 3
   },
   "file_extension": ".py",
   "mimetype": "text/x-python",
   "name": "python",
   "nbconvert_exporter": "python",
   "pygments_lexer": "ipython3",
   "version": "3.9.13"
  }
 },
 "nbformat": 4,
 "nbformat_minor": 5
}
